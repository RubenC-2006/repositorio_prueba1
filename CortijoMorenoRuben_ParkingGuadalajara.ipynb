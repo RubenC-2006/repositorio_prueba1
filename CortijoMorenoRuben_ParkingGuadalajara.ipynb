{
 "cells": [
  {
   "cell_type": "code",
   "execution_count": 3,
   "metadata": {},
   "outputs": [
    {
     "name": "stdout",
     "output_type": "stream",
     "text": [
      "El importe a pagar es: 9.70€\n"
     ]
    }
   ],
   "source": [
    "def diferencia(hora_entrada, hora_salida):\n",
    "    h1, m1, s1 = map(int, hora_entrada.split(':'))\n",
    "    h2, m2, s2 = map(int, hora_salida.split(':'))\n",
    "    \n",
    "    segundos_entrada = h1 * 3600 + m1 * 60 + s1\n",
    "    segundos_salida = h2 * 3600 + m2 * 60 + s2\n",
    "    \n",
    "    return (segundos_salida - segundos_entrada) / 3600\n",
    "\n",
    "def calcular_importe(hora_entrada, hora_salida):\n",
    "    horas = diferencia(hora_entrada, hora_salida)\n",
    "    if horas <= 1:\n",
    "        return 3.40\n",
    "    else:\n",
    "        return 3.40 + (horas - 1) * 1.80\n",
    "\n",
    "hora_entrada = input(\"Hora de entrada (hh:mm:ss): \")\n",
    "hora_salida = input(\"Hora de salida (hh:mm:ss): \")\n",
    "\n",
    "importe = calcular_importe(hora_entrada, hora_salida)\n",
    "print(f\"El importe a pagar es: {importe:.2f}€\")\n"
   ]
  }
 ],
 "metadata": {
  "kernelspec": {
   "display_name": "Python 3",
   "language": "python",
   "name": "python3"
  },
  "language_info": {
   "codemirror_mode": {
    "name": "ipython",
    "version": 3
   },
   "file_extension": ".py",
   "mimetype": "text/x-python",
   "name": "python",
   "nbconvert_exporter": "python",
   "pygments_lexer": "ipython3",
   "version": "3.11.9"
  }
 },
 "nbformat": 4,
 "nbformat_minor": 2
}
