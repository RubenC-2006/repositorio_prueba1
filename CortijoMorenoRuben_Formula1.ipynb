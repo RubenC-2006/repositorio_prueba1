{
 "cells": [
  {
   "cell_type": "code",
   "execution_count": 4,
   "metadata": {},
   "outputs": [
    {
     "name": "stdout",
     "output_type": "stream",
     "text": [
      "Tiempo total para 60 vueltas: 94 minutos y 39 segundos.\n",
      "En la carrera se han realizado 1 paradas.\n"
     ]
    }
   ],
   "source": [
    "def tiempo_vueltas(n, x):\n",
    "    tiempo_total = 0 \n",
    "    resistencia_neumaticos = 100  \n",
    "    tiempo_por_vuelta = 90 \n",
    "    paradas = 0 \n",
    "    \n",
    "    for _ in range(n):\n",
    "        tiempo_total += tiempo_por_vuelta\n",
    "        resistencia_neumaticos -= 1.15\n",
    "        \n",
    "        if resistencia_neumaticos <= x:\n",
    "            paradas += 1\n",
    "            resistencia_neumaticos = 100 \n",
    "            tiempo_por_vuelta = 90 \n",
    "        else:\n",
    "            tiempo_por_vuelta += 0.2\n",
    "    \n",
    "    return tiempo_total, paradas\n",
    "\n",
    "n = int(input(\"Numero de vueltas: \"))\n",
    "x = float(input(\"Porcentaje de desgaste para hacer parada: \"))\n",
    "\n",
    "resultado, paradas = tiempo_vueltas(n, x)\n",
    "\n",
    "minutos = resultado // 60\n",
    "segundos = resultado % 60\n",
    "\n",
    "print(f\"Tiempo total para {n} vueltas: {int(minutos)} minutos y {int(segundos)} segundos.\")\n",
    "print(f\"En la carrera se han realizado {paradas} paradas.\")\n",
    "\n",
    "\n",
    "\n"
   ]
  }
 ],
 "metadata": {
  "kernelspec": {
   "display_name": "Python 3",
   "language": "python",
   "name": "python3"
  },
  "language_info": {
   "codemirror_mode": {
    "name": "ipython",
    "version": 3
   },
   "file_extension": ".py",
   "mimetype": "text/x-python",
   "name": "python",
   "nbconvert_exporter": "python",
   "pygments_lexer": "ipython3",
   "version": "3.11.9"
  }
 },
 "nbformat": 4,
 "nbformat_minor": 2
}
